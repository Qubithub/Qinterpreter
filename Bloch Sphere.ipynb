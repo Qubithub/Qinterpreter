{
 "cells": [
  {
   "cell_type": "code",
   "execution_count": null,
   "id": "da4330b6-35f3-41a6-8ae2-8f428deb0bc5",
   "metadata": {},
   "outputs": [],
   "source": [
    "!pip install plotly \n",
    "\n",
    "from quantumgateway.quantum_circuit import QuantumCircuit, QuantumGate\n",
    "from quantumgateway.quantum_translator.braket_translator import BraketTranslator\n",
    "from quantumgateway.quantum_translator.cirq_translator import CirqTranslator\n",
    "from quantumgateway.quantum_translator.qiskit_translator import QiskitTranslator\n",
    "from quantumgateway.quantum_translator.pennylane_translator import PennyLaneTranslator\n",
    "from quantumgateway.quantum_translator.pyquil_translator import PyQuilTranslator\n",
    "\n",
    "from quantumgateway.main import translate_to_framework, simulate_circuit, bloch_sphere\n",
    "\n",
    "import math\n",
    "circuit = QuantumCircuit(2,2)  \n",
    "\n",
    "circuit.add_gate(QuantumGate(\"x\", [0]))\n",
    "circuit.add_gate(QuantumGate(\"x\", [1]))\n",
    "circuit.add_gate(QuantumGate(\"h\", [1]))\n",
    "circuit.add_gate(QuantumGate(\"cphase\", [0, 1], [math.pi/4]))\n",
    "\n",
    "bloch_sphere(circuit)"
   ]
  }
 ],
 "metadata": {
  "kernelspec": {
   "display_name": "Python 3 (ipykernel)",
   "language": "python",
   "name": "python3"
  },
  "language_info": {
   "codemirror_mode": {
    "name": "ipython",
    "version": 3
   },
   "file_extension": ".py",
   "mimetype": "text/x-python",
   "name": "python",
   "nbconvert_exporter": "python",
   "pygments_lexer": "ipython3",
   "version": "3.9.2"
  }
 },
 "nbformat": 4,
 "nbformat_minor": 5
}
